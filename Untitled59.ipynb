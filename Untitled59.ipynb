{
  "nbformat": 4,
  "nbformat_minor": 0,
  "metadata": {
    "colab": {
      "name": "Untitled59.ipynb",
      "provenance": [],
      "collapsed_sections": [],
      "include_colab_link": true
    },
    "kernelspec": {
      "name": "python3",
      "display_name": "Python 3"
    }
  },
  "cells": [
    {
      "cell_type": "markdown",
      "metadata": {
        "id": "view-in-github",
        "colab_type": "text"
      },
      "source": [
        "<a href=\"https://colab.research.google.com/github/Abhishek1236/assignment/blob/master/Untitled59.ipynb\" target=\"_parent\"><img src=\"https://colab.research.google.com/assets/colab-badge.svg\" alt=\"Open In Colab\"/></a>"
      ]
    },
    {
      "cell_type": "code",
      "metadata": {
        "id": "LJSy_GeNwXOO",
        "colab_type": "code",
        "colab": {}
      },
      "source": [
        "import os\n",
        "import pandas as pd\n",
        "import glob\n"
      ],
      "execution_count": 0,
      "outputs": []
    },
    {
      "cell_type": "code",
      "metadata": {
        "id": "7bv0cgliwgo3",
        "colab_type": "code",
        "outputId": "dda1519b-3f9b-426e-da86-daf591a123e1",
        "colab": {
          "base_uri": "https://localhost:8080/",
          "height": 120
        }
      },
      "source": [
        "from google.colab import drive\n",
        "drive.mount('/content/drive')"
      ],
      "execution_count": 4,
      "outputs": [
        {
          "output_type": "stream",
          "text": [
            "Go to this URL in a browser: https://accounts.google.com/o/oauth2/auth?client_id=947318989803-6bn6qk8qdgf4n4g3pfee6491hc0brc4i.apps.googleusercontent.com&redirect_uri=urn%3aietf%3awg%3aoauth%3a2.0%3aoob&response_type=code&scope=email%20https%3a%2f%2fwww.googleapis.com%2fauth%2fdocs.test%20https%3a%2f%2fwww.googleapis.com%2fauth%2fdrive%20https%3a%2f%2fwww.googleapis.com%2fauth%2fdrive.photos.readonly%20https%3a%2f%2fwww.googleapis.com%2fauth%2fpeopleapi.readonly\n",
            "\n",
            "Enter your authorization code:\n",
            "··········\n",
            "Mounted at /content/drive\n"
          ],
          "name": "stdout"
        }
      ]
    },
    {
      "cell_type": "code",
      "metadata": {
        "id": "qQKDWcnpwpaM",
        "colab_type": "code",
        "colab": {
          "base_uri": "https://localhost:8080/",
          "height": 624
        },
        "outputId": "e1d30e97-f2a3-4053-da01-8d5a1dff8c9f"
      },
      "source": [
        "def file_to_df(path_to_file):\n",
        "  dataframe = pd.read_csv(path_to_file)\n",
        "  # creating list of from path to extract different criteria\n",
        "  list_frm_path = str.split(path_to_file,'/')\n",
        "  #print(list_frm_path) # this is also important as it contains the information about the folder\n",
        "  directory = list_frm_path[-2] # name of the directory for the storage of files\n",
        "  # collecting last element of the list as it contains information\n",
        "  new_list = list_frm_path[-1]\n",
        " # print(new_list)\n",
        "  #print(type(new_list))\n",
        "  # now spliting the string on white space\n",
        "  #print(informative_list)\n",
        "  informative_list = str.split(new_list,\" \")\n",
        "  print(\"informative list: \",informative_list)\n",
        "  #print(type(informative_list))\n",
        "  # now concating 2,3,4 element of list as it represents a date\n",
        "  expiry_date = informative_list[1:4]\n",
        "  #print(date)\n",
        "  # now converting the date into correct format\n",
        "  ExpiryDate = \" \".join(expiry_date)\n",
        "  #print(new_date)\n",
        "  # now we can go for the strike price\n",
        "  strike_price = informative_list[-1]\n",
        "  Strike_Price = strike_price.replace(\".csv\", \"\")\n",
        "  #print(Strike_price)\n",
        "  # now we are ready to add columns and the data\n",
        "  dataframe['Symbol']= informative_list[0]\n",
        "  dataframe['ExpiryDate'] = ExpiryDate\n",
        "  dataframe['OptionType'] = informative_list[4]\n",
        "  dataframe['Strike_Price'] = Strike_Price\n",
        "  return dataframe\n",
        "\n",
        "\n",
        "'''\n",
        "df1 = file_to_df('/content/drive/My Drive/SampleInputDirectory/20191104/AMKR 20 MAR 20 PUT 11.csv')\n",
        "df2 = file_to_df('/content/drive/My Drive/SampleInputDirectory/20191104/AMKR 20 MAR 20 PUT 14.csv')\n",
        "df3 = file_to_df('/content/drive/My Drive/SampleInputDirectory/20191104/AMLP 08 NOV 19 PUT 9.csv')\n",
        "df4 = file_to_df('/content/drive/My Drive/SampleInputDirectory/20191104/AMLP 13 DEC 19 CALL 8.5.csv')\n",
        "df = pd.concat([df1,df2,df3,df4])\n",
        "'''\n",
        "# use os dir to extract files from the path \n",
        "dir_path = '/content/drive/My Drive/SampleInputDirectory/20191104/'# directory path\n",
        "\n",
        "#file_path = ['AMKR 20 MAR 20 PUT 11.csv','AMKR 20 MAR 20 PUT 14.csv','AMLP 08 NOV 19 PUT 9.csv','AMLP 13 DEC 19 CALL 8.5.csv']\n",
        "file_path = os.listdir(dir_path)\n",
        "print(file_path)\n",
        "print(type(file_path))\n",
        "print(type(dir_path))\n",
        "list_new = list()\n",
        "t = \"\"\n",
        "for f in file_path:\n",
        "  #list_new.append(file_to_df(dir_path +str(f))\n",
        "  t = file_to_df(dir_path+ \"/\" + f ) # make file path  in the giiven format\n",
        "  list_new.append(t)\n"
      ],
      "execution_count": 28,
      "outputs": [
        {
          "output_type": "stream",
          "text": [
            "['AMKR 20 MAR 20 PUT 11.csv', 'AMLP 13 DEC 19 CALL 8.5.csv', 'AMKR 20 MAR 20 PUT 14.csv', 'AMLP 08 NOV 19 PUT 9.csv', '.ipynb_checkpoints']\n",
            "<class 'list'>\n",
            "<class 'str'>\n",
            "informative list:  ['AMKR', '20', 'MAR', '20', 'PUT', '11.csv']\n",
            "informative list:  ['AMLP', '13', 'DEC', '19', 'CALL', '8.5.csv']\n",
            "informative list:  ['AMKR', '20', 'MAR', '20', 'PUT', '14.csv']\n",
            "informative list:  ['AMLP', '08', 'NOV', '19', 'PUT', '9.csv']\n"
          ],
          "name": "stdout"
        },
        {
          "output_type": "error",
          "ename": "ParserError",
          "evalue": "ignored",
          "traceback": [
            "\u001b[0;31m---------------------------------------------------------------------------\u001b[0m",
            "\u001b[0;31mParserError\u001b[0m                               Traceback (most recent call last)",
            "\u001b[0;32m<ipython-input-28-1847f3625d3a>\u001b[0m in \u001b[0;36m<module>\u001b[0;34m()\u001b[0m\n\u001b[1;32m     51\u001b[0m \u001b[0;32mfor\u001b[0m \u001b[0mf\u001b[0m \u001b[0;32min\u001b[0m \u001b[0mfile_path\u001b[0m\u001b[0;34m:\u001b[0m\u001b[0;34m\u001b[0m\u001b[0;34m\u001b[0m\u001b[0m\n\u001b[1;32m     52\u001b[0m   \u001b[0;31m#list_new.append(file_to_df(dir_path +str(f))\u001b[0m\u001b[0;34m\u001b[0m\u001b[0;34m\u001b[0m\u001b[0;34m\u001b[0m\u001b[0m\n\u001b[0;32m---> 53\u001b[0;31m   \u001b[0mt\u001b[0m \u001b[0;34m=\u001b[0m \u001b[0mfile_to_df\u001b[0m\u001b[0;34m(\u001b[0m\u001b[0mdir_path\u001b[0m\u001b[0;34m+\u001b[0m \u001b[0;34m\"/\"\u001b[0m \u001b[0;34m+\u001b[0m \u001b[0mf\u001b[0m \u001b[0;34m)\u001b[0m \u001b[0;31m# make file path  in the giiven format\u001b[0m\u001b[0;34m\u001b[0m\u001b[0;34m\u001b[0m\u001b[0m\n\u001b[0m\u001b[1;32m     54\u001b[0m   \u001b[0mlist_new\u001b[0m\u001b[0;34m.\u001b[0m\u001b[0mappend\u001b[0m\u001b[0;34m(\u001b[0m\u001b[0mt\u001b[0m\u001b[0;34m)\u001b[0m\u001b[0;34m\u001b[0m\u001b[0;34m\u001b[0m\u001b[0m\n",
            "\u001b[0;32m<ipython-input-28-1847f3625d3a>\u001b[0m in \u001b[0;36mfile_to_df\u001b[0;34m(path_to_file)\u001b[0m\n\u001b[1;32m      1\u001b[0m \u001b[0;32mdef\u001b[0m \u001b[0mfile_to_df\u001b[0m\u001b[0;34m(\u001b[0m\u001b[0mpath_to_file\u001b[0m\u001b[0;34m)\u001b[0m\u001b[0;34m:\u001b[0m\u001b[0;34m\u001b[0m\u001b[0;34m\u001b[0m\u001b[0m\n\u001b[0;32m----> 2\u001b[0;31m   \u001b[0mdataframe\u001b[0m \u001b[0;34m=\u001b[0m \u001b[0mpd\u001b[0m\u001b[0;34m.\u001b[0m\u001b[0mread_csv\u001b[0m\u001b[0;34m(\u001b[0m\u001b[0mpath_to_file\u001b[0m\u001b[0;34m)\u001b[0m\u001b[0;34m\u001b[0m\u001b[0;34m\u001b[0m\u001b[0m\n\u001b[0m\u001b[1;32m      3\u001b[0m   \u001b[0;31m# creating list of from path to extract different criteria\u001b[0m\u001b[0;34m\u001b[0m\u001b[0;34m\u001b[0m\u001b[0;34m\u001b[0m\u001b[0m\n\u001b[1;32m      4\u001b[0m   \u001b[0mlist_frm_path\u001b[0m \u001b[0;34m=\u001b[0m \u001b[0mstr\u001b[0m\u001b[0;34m.\u001b[0m\u001b[0msplit\u001b[0m\u001b[0;34m(\u001b[0m\u001b[0mpath_to_file\u001b[0m\u001b[0;34m,\u001b[0m\u001b[0;34m'/'\u001b[0m\u001b[0;34m)\u001b[0m\u001b[0;34m\u001b[0m\u001b[0;34m\u001b[0m\u001b[0m\n\u001b[1;32m      5\u001b[0m   \u001b[0;31m#print(list_frm_path) # this is also important as it contains the information about the folder\u001b[0m\u001b[0;34m\u001b[0m\u001b[0;34m\u001b[0m\u001b[0;34m\u001b[0m\u001b[0m\n",
            "\u001b[0;32m/usr/local/lib/python3.6/dist-packages/pandas/io/parsers.py\u001b[0m in \u001b[0;36mparser_f\u001b[0;34m(filepath_or_buffer, sep, delimiter, header, names, index_col, usecols, squeeze, prefix, mangle_dupe_cols, dtype, engine, converters, true_values, false_values, skipinitialspace, skiprows, skipfooter, nrows, na_values, keep_default_na, na_filter, verbose, skip_blank_lines, parse_dates, infer_datetime_format, keep_date_col, date_parser, dayfirst, cache_dates, iterator, chunksize, compression, thousands, decimal, lineterminator, quotechar, quoting, doublequote, escapechar, comment, encoding, dialect, error_bad_lines, warn_bad_lines, delim_whitespace, low_memory, memory_map, float_precision)\u001b[0m\n\u001b[1;32m    683\u001b[0m         )\n\u001b[1;32m    684\u001b[0m \u001b[0;34m\u001b[0m\u001b[0m\n\u001b[0;32m--> 685\u001b[0;31m         \u001b[0;32mreturn\u001b[0m \u001b[0m_read\u001b[0m\u001b[0;34m(\u001b[0m\u001b[0mfilepath_or_buffer\u001b[0m\u001b[0;34m,\u001b[0m \u001b[0mkwds\u001b[0m\u001b[0;34m)\u001b[0m\u001b[0;34m\u001b[0m\u001b[0;34m\u001b[0m\u001b[0m\n\u001b[0m\u001b[1;32m    686\u001b[0m \u001b[0;34m\u001b[0m\u001b[0m\n\u001b[1;32m    687\u001b[0m     \u001b[0mparser_f\u001b[0m\u001b[0;34m.\u001b[0m\u001b[0m__name__\u001b[0m \u001b[0;34m=\u001b[0m \u001b[0mname\u001b[0m\u001b[0;34m\u001b[0m\u001b[0;34m\u001b[0m\u001b[0m\n",
            "\u001b[0;32m/usr/local/lib/python3.6/dist-packages/pandas/io/parsers.py\u001b[0m in \u001b[0;36m_read\u001b[0;34m(filepath_or_buffer, kwds)\u001b[0m\n\u001b[1;32m    455\u001b[0m \u001b[0;34m\u001b[0m\u001b[0m\n\u001b[1;32m    456\u001b[0m     \u001b[0;31m# Create the parser.\u001b[0m\u001b[0;34m\u001b[0m\u001b[0;34m\u001b[0m\u001b[0;34m\u001b[0m\u001b[0m\n\u001b[0;32m--> 457\u001b[0;31m     \u001b[0mparser\u001b[0m \u001b[0;34m=\u001b[0m \u001b[0mTextFileReader\u001b[0m\u001b[0;34m(\u001b[0m\u001b[0mfp_or_buf\u001b[0m\u001b[0;34m,\u001b[0m \u001b[0;34m**\u001b[0m\u001b[0mkwds\u001b[0m\u001b[0;34m)\u001b[0m\u001b[0;34m\u001b[0m\u001b[0;34m\u001b[0m\u001b[0m\n\u001b[0m\u001b[1;32m    458\u001b[0m \u001b[0;34m\u001b[0m\u001b[0m\n\u001b[1;32m    459\u001b[0m     \u001b[0;32mif\u001b[0m \u001b[0mchunksize\u001b[0m \u001b[0;32mor\u001b[0m \u001b[0miterator\u001b[0m\u001b[0;34m:\u001b[0m\u001b[0;34m\u001b[0m\u001b[0;34m\u001b[0m\u001b[0m\n",
            "\u001b[0;32m/usr/local/lib/python3.6/dist-packages/pandas/io/parsers.py\u001b[0m in \u001b[0;36m__init__\u001b[0;34m(self, f, engine, **kwds)\u001b[0m\n\u001b[1;32m    893\u001b[0m             \u001b[0mself\u001b[0m\u001b[0;34m.\u001b[0m\u001b[0moptions\u001b[0m\u001b[0;34m[\u001b[0m\u001b[0;34m\"has_index_names\"\u001b[0m\u001b[0;34m]\u001b[0m \u001b[0;34m=\u001b[0m \u001b[0mkwds\u001b[0m\u001b[0;34m[\u001b[0m\u001b[0;34m\"has_index_names\"\u001b[0m\u001b[0;34m]\u001b[0m\u001b[0;34m\u001b[0m\u001b[0;34m\u001b[0m\u001b[0m\n\u001b[1;32m    894\u001b[0m \u001b[0;34m\u001b[0m\u001b[0m\n\u001b[0;32m--> 895\u001b[0;31m         \u001b[0mself\u001b[0m\u001b[0;34m.\u001b[0m\u001b[0m_make_engine\u001b[0m\u001b[0;34m(\u001b[0m\u001b[0mself\u001b[0m\u001b[0;34m.\u001b[0m\u001b[0mengine\u001b[0m\u001b[0;34m)\u001b[0m\u001b[0;34m\u001b[0m\u001b[0;34m\u001b[0m\u001b[0m\n\u001b[0m\u001b[1;32m    896\u001b[0m \u001b[0;34m\u001b[0m\u001b[0m\n\u001b[1;32m    897\u001b[0m     \u001b[0;32mdef\u001b[0m \u001b[0mclose\u001b[0m\u001b[0;34m(\u001b[0m\u001b[0mself\u001b[0m\u001b[0;34m)\u001b[0m\u001b[0;34m:\u001b[0m\u001b[0;34m\u001b[0m\u001b[0;34m\u001b[0m\u001b[0m\n",
            "\u001b[0;32m/usr/local/lib/python3.6/dist-packages/pandas/io/parsers.py\u001b[0m in \u001b[0;36m_make_engine\u001b[0;34m(self, engine)\u001b[0m\n\u001b[1;32m   1133\u001b[0m     \u001b[0;32mdef\u001b[0m \u001b[0m_make_engine\u001b[0m\u001b[0;34m(\u001b[0m\u001b[0mself\u001b[0m\u001b[0;34m,\u001b[0m \u001b[0mengine\u001b[0m\u001b[0;34m=\u001b[0m\u001b[0;34m\"c\"\u001b[0m\u001b[0;34m)\u001b[0m\u001b[0;34m:\u001b[0m\u001b[0;34m\u001b[0m\u001b[0;34m\u001b[0m\u001b[0m\n\u001b[1;32m   1134\u001b[0m         \u001b[0;32mif\u001b[0m \u001b[0mengine\u001b[0m \u001b[0;34m==\u001b[0m \u001b[0;34m\"c\"\u001b[0m\u001b[0;34m:\u001b[0m\u001b[0;34m\u001b[0m\u001b[0;34m\u001b[0m\u001b[0m\n\u001b[0;32m-> 1135\u001b[0;31m             \u001b[0mself\u001b[0m\u001b[0;34m.\u001b[0m\u001b[0m_engine\u001b[0m \u001b[0;34m=\u001b[0m \u001b[0mCParserWrapper\u001b[0m\u001b[0;34m(\u001b[0m\u001b[0mself\u001b[0m\u001b[0;34m.\u001b[0m\u001b[0mf\u001b[0m\u001b[0;34m,\u001b[0m \u001b[0;34m**\u001b[0m\u001b[0mself\u001b[0m\u001b[0;34m.\u001b[0m\u001b[0moptions\u001b[0m\u001b[0;34m)\u001b[0m\u001b[0;34m\u001b[0m\u001b[0;34m\u001b[0m\u001b[0m\n\u001b[0m\u001b[1;32m   1136\u001b[0m         \u001b[0;32melse\u001b[0m\u001b[0;34m:\u001b[0m\u001b[0;34m\u001b[0m\u001b[0;34m\u001b[0m\u001b[0m\n\u001b[1;32m   1137\u001b[0m             \u001b[0;32mif\u001b[0m \u001b[0mengine\u001b[0m \u001b[0;34m==\u001b[0m \u001b[0;34m\"python\"\u001b[0m\u001b[0;34m:\u001b[0m\u001b[0;34m\u001b[0m\u001b[0;34m\u001b[0m\u001b[0m\n",
            "\u001b[0;32m/usr/local/lib/python3.6/dist-packages/pandas/io/parsers.py\u001b[0m in \u001b[0;36m__init__\u001b[0;34m(self, src, **kwds)\u001b[0m\n\u001b[1;32m   1915\u001b[0m         \u001b[0mkwds\u001b[0m\u001b[0;34m[\u001b[0m\u001b[0;34m\"usecols\"\u001b[0m\u001b[0;34m]\u001b[0m \u001b[0;34m=\u001b[0m \u001b[0mself\u001b[0m\u001b[0;34m.\u001b[0m\u001b[0musecols\u001b[0m\u001b[0;34m\u001b[0m\u001b[0;34m\u001b[0m\u001b[0m\n\u001b[1;32m   1916\u001b[0m \u001b[0;34m\u001b[0m\u001b[0m\n\u001b[0;32m-> 1917\u001b[0;31m         \u001b[0mself\u001b[0m\u001b[0;34m.\u001b[0m\u001b[0m_reader\u001b[0m \u001b[0;34m=\u001b[0m \u001b[0mparsers\u001b[0m\u001b[0;34m.\u001b[0m\u001b[0mTextReader\u001b[0m\u001b[0;34m(\u001b[0m\u001b[0msrc\u001b[0m\u001b[0;34m,\u001b[0m \u001b[0;34m**\u001b[0m\u001b[0mkwds\u001b[0m\u001b[0;34m)\u001b[0m\u001b[0;34m\u001b[0m\u001b[0;34m\u001b[0m\u001b[0m\n\u001b[0m\u001b[1;32m   1918\u001b[0m         \u001b[0mself\u001b[0m\u001b[0;34m.\u001b[0m\u001b[0munnamed_cols\u001b[0m \u001b[0;34m=\u001b[0m \u001b[0mself\u001b[0m\u001b[0;34m.\u001b[0m\u001b[0m_reader\u001b[0m\u001b[0;34m.\u001b[0m\u001b[0munnamed_cols\u001b[0m\u001b[0;34m\u001b[0m\u001b[0;34m\u001b[0m\u001b[0m\n\u001b[1;32m   1919\u001b[0m \u001b[0;34m\u001b[0m\u001b[0m\n",
            "\u001b[0;32mpandas/_libs/parsers.pyx\u001b[0m in \u001b[0;36mpandas._libs.parsers.TextReader.__cinit__\u001b[0;34m()\u001b[0m\n",
            "\u001b[0;32mpandas/_libs/parsers.pyx\u001b[0m in \u001b[0;36mpandas._libs.parsers.TextReader._get_header\u001b[0;34m()\u001b[0m\n",
            "\u001b[0;32mpandas/_libs/parsers.pyx\u001b[0m in \u001b[0;36mpandas._libs.parsers.TextReader._tokenize_rows\u001b[0;34m()\u001b[0m\n",
            "\u001b[0;32mpandas/_libs/parsers.pyx\u001b[0m in \u001b[0;36mpandas._libs.parsers.raise_parser_error\u001b[0;34m()\u001b[0m\n",
            "\u001b[0;31mParserError\u001b[0m: Error tokenizing data. C error: Calling read(nbytes) on source failed. Try engine='python'."
          ]
        }
      ]
    },
    {
      "cell_type": "code",
      "metadata": {
        "id": "BmVZd1hMiVRg",
        "colab_type": "code",
        "colab": {
          "base_uri": "https://localhost:8080/",
          "height": 161
        },
        "outputId": "67975bdd-598f-406d-9e24-29775b7259eb"
      },
      "source": [
        ""
      ],
      "execution_count": 10,
      "outputs": [
        {
          "output_type": "error",
          "ename": "AttributeError",
          "evalue": "ignored",
          "traceback": [
            "\u001b[0;31m---------------------------------------------------------------------------\u001b[0m",
            "\u001b[0;31mAttributeError\u001b[0m                            Traceback (most recent call last)",
            "\u001b[0;32m<ipython-input-10-9303431dace4>\u001b[0m in \u001b[0;36m<module>\u001b[0;34m()\u001b[0m\n\u001b[0;32m----> 1\u001b[0;31m \u001b[0mprint\u001b[0m\u001b[0;34m(\u001b[0m\u001b[0mos\u001b[0m\u001b[0;34m.\u001b[0m\u001b[0mcwd\u001b[0m\u001b[0;34m(\u001b[0m\u001b[0;34m)\u001b[0m\u001b[0;34m)\u001b[0m\u001b[0;34m\u001b[0m\u001b[0;34m\u001b[0m\u001b[0m\n\u001b[0m",
            "\u001b[0;31mAttributeError\u001b[0m: module 'os' has no attribute 'cwd'"
          ]
        }
      ]
    },
    {
      "cell_type": "code",
      "metadata": {
        "id": "wEgqqgXOhlA6",
        "colab_type": "code",
        "colab": {}
      },
      "source": [
        "df = pd.concat(list_new)"
      ],
      "execution_count": 0,
      "outputs": []
    },
    {
      "cell_type": "code",
      "metadata": {
        "id": "XtvixafO4CH1",
        "colab_type": "code",
        "outputId": "0d9b3e16-dcd7-4fb4-f779-a487dcd60f84",
        "colab": {
          "base_uri": "https://localhost:8080/",
          "height": 300
        }
      },
      "source": [
        "df.head()"
      ],
      "execution_count": 8,
      "outputs": [
        {
          "output_type": "execute_result",
          "data": {
            "text/html": [
              "<div>\n",
              "<style scoped>\n",
              "    .dataframe tbody tr th:only-of-type {\n",
              "        vertical-align: middle;\n",
              "    }\n",
              "\n",
              "    .dataframe tbody tr th {\n",
              "        vertical-align: top;\n",
              "    }\n",
              "\n",
              "    .dataframe thead th {\n",
              "        text-align: right;\n",
              "    }\n",
              "</style>\n",
              "<table border=\"1\" class=\"dataframe\">\n",
              "  <thead>\n",
              "    <tr style=\"text-align: right;\">\n",
              "      <th></th>\n",
              "      <th>Timestamp</th>\n",
              "      <th>Last</th>\n",
              "      <th>LastSize</th>\n",
              "      <th>TotalVolume</th>\n",
              "      <th>Bid</th>\n",
              "      <th>Ask</th>\n",
              "      <th>TickId</th>\n",
              "      <th>BasisForLast</th>\n",
              "      <th>TradeMarketCenter</th>\n",
              "      <th>TradeConditions</th>\n",
              "      <th>Symbol</th>\n",
              "      <th>ExpiryDate</th>\n",
              "      <th>OptionType</th>\n",
              "      <th>Strike_Price</th>\n",
              "    </tr>\n",
              "  </thead>\n",
              "  <tbody>\n",
              "    <tr>\n",
              "      <th>2019-11-04 13:46:52.103547</th>\n",
              "      <td>0.53</td>\n",
              "      <td>1</td>\n",
              "      <td>1</td>\n",
              "      <td>0.50</td>\n",
              "      <td>0.55</td>\n",
              "      <td>63857359</td>\n",
              "      <td>C</td>\n",
              "      <td>9</td>\n",
              "      <td>01</td>\n",
              "      <td>NaN</td>\n",
              "      <td>AMKR</td>\n",
              "      <td>20 MAR 20</td>\n",
              "      <td>PUT</td>\n",
              "      <td>11</td>\n",
              "    </tr>\n",
              "    <tr>\n",
              "      <th>2019-11-04 13:47:50.249916</th>\n",
              "      <td>0.55</td>\n",
              "      <td>3</td>\n",
              "      <td>4</td>\n",
              "      <td>0.50</td>\n",
              "      <td>0.55</td>\n",
              "      <td>64031460</td>\n",
              "      <td>C</td>\n",
              "      <td>156</td>\n",
              "      <td>3D</td>\n",
              "      <td>NaN</td>\n",
              "      <td>AMKR</td>\n",
              "      <td>20 MAR 20</td>\n",
              "      <td>PUT</td>\n",
              "      <td>11</td>\n",
              "    </tr>\n",
              "    <tr>\n",
              "      <th>2019-11-04 14:47:21.681808</th>\n",
              "      <td>0.50</td>\n",
              "      <td>1</td>\n",
              "      <td>5</td>\n",
              "      <td>0.50</td>\n",
              "      <td>0.55</td>\n",
              "      <td>74611017</td>\n",
              "      <td>C</td>\n",
              "      <td>11</td>\n",
              "      <td>20</td>\n",
              "      <td>NaN</td>\n",
              "      <td>AMKR</td>\n",
              "      <td>20 MAR 20</td>\n",
              "      <td>PUT</td>\n",
              "      <td>11</td>\n",
              "    </tr>\n",
              "    <tr>\n",
              "      <th>2019-11-04 10:29:35.523620</th>\n",
              "      <td>1.75</td>\n",
              "      <td>1</td>\n",
              "      <td>1</td>\n",
              "      <td>1.70</td>\n",
              "      <td>1.75</td>\n",
              "      <td>20621700</td>\n",
              "      <td>C</td>\n",
              "      <td>17</td>\n",
              "      <td>20</td>\n",
              "      <td>NaN</td>\n",
              "      <td>AMKR</td>\n",
              "      <td>20 MAR 20</td>\n",
              "      <td>PUT</td>\n",
              "      <td>14</td>\n",
              "    </tr>\n",
              "    <tr>\n",
              "      <th>2019-11-04 09:37:24.268766</th>\n",
              "      <td>0.30</td>\n",
              "      <td>10</td>\n",
              "      <td>10</td>\n",
              "      <td>0.15</td>\n",
              "      <td>0.45</td>\n",
              "      <td>3672704</td>\n",
              "      <td>C</td>\n",
              "      <td>9</td>\n",
              "      <td>20</td>\n",
              "      <td>NaN</td>\n",
              "      <td>AMLP</td>\n",
              "      <td>08 NOV 19</td>\n",
              "      <td>PUT</td>\n",
              "      <td>9</td>\n",
              "    </tr>\n",
              "  </tbody>\n",
              "</table>\n",
              "</div>"
            ],
            "text/plain": [
              "                            Timestamp  Last  ...  OptionType  Strike_Price\n",
              "2019-11-04 13:46:52.103547       0.53     1  ...         PUT            11\n",
              "2019-11-04 13:47:50.249916       0.55     3  ...         PUT            11\n",
              "2019-11-04 14:47:21.681808       0.50     1  ...         PUT            11\n",
              "2019-11-04 10:29:35.523620       1.75     1  ...         PUT            14\n",
              "2019-11-04 09:37:24.268766       0.30    10  ...         PUT             9\n",
              "\n",
              "[5 rows x 14 columns]"
            ]
          },
          "metadata": {
            "tags": []
          },
          "execution_count": 8
        }
      ]
    },
    {
      "cell_type": "code",
      "metadata": {
        "id": "ZkORrVT2Cd5B",
        "colab_type": "code",
        "outputId": "92162842-4877-4e53-b4a8-92801eefe98e",
        "colab": {
          "base_uri": "https://localhost:8080/",
          "height": 207
        }
      },
      "source": [
        "df1.head()"
      ],
      "execution_count": 0,
      "outputs": [
        {
          "output_type": "execute_result",
          "data": {
            "text/html": [
              "<div>\n",
              "<style scoped>\n",
              "    .dataframe tbody tr th:only-of-type {\n",
              "        vertical-align: middle;\n",
              "    }\n",
              "\n",
              "    .dataframe tbody tr th {\n",
              "        vertical-align: top;\n",
              "    }\n",
              "\n",
              "    .dataframe thead th {\n",
              "        text-align: right;\n",
              "    }\n",
              "</style>\n",
              "<table border=\"1\" class=\"dataframe\">\n",
              "  <thead>\n",
              "    <tr style=\"text-align: right;\">\n",
              "      <th></th>\n",
              "      <th>Timestamp</th>\n",
              "      <th>Last</th>\n",
              "      <th>LastSize</th>\n",
              "      <th>TotalVolume</th>\n",
              "      <th>Bid</th>\n",
              "      <th>Ask</th>\n",
              "      <th>TickId</th>\n",
              "      <th>BasisForLast</th>\n",
              "      <th>TradeMarketCenter</th>\n",
              "      <th>TradeConditions</th>\n",
              "      <th>Symbol</th>\n",
              "      <th>ExpiryDate</th>\n",
              "      <th>OptionType</th>\n",
              "      <th>Strike_Price</th>\n",
              "    </tr>\n",
              "  </thead>\n",
              "  <tbody>\n",
              "    <tr>\n",
              "      <th>2019-11-04 13:46:52.103547</th>\n",
              "      <td>0.53</td>\n",
              "      <td>1</td>\n",
              "      <td>1</td>\n",
              "      <td>0.5</td>\n",
              "      <td>0.55</td>\n",
              "      <td>63857359</td>\n",
              "      <td>C</td>\n",
              "      <td>9</td>\n",
              "      <td>01</td>\n",
              "      <td>NaN</td>\n",
              "      <td>AMKR</td>\n",
              "      <td>20 MAR 20</td>\n",
              "      <td>PUT</td>\n",
              "      <td>11</td>\n",
              "    </tr>\n",
              "    <tr>\n",
              "      <th>2019-11-04 13:47:50.249916</th>\n",
              "      <td>0.55</td>\n",
              "      <td>3</td>\n",
              "      <td>4</td>\n",
              "      <td>0.5</td>\n",
              "      <td>0.55</td>\n",
              "      <td>64031460</td>\n",
              "      <td>C</td>\n",
              "      <td>156</td>\n",
              "      <td>3D</td>\n",
              "      <td>NaN</td>\n",
              "      <td>AMKR</td>\n",
              "      <td>20 MAR 20</td>\n",
              "      <td>PUT</td>\n",
              "      <td>11</td>\n",
              "    </tr>\n",
              "    <tr>\n",
              "      <th>2019-11-04 14:47:21.681808</th>\n",
              "      <td>0.50</td>\n",
              "      <td>1</td>\n",
              "      <td>5</td>\n",
              "      <td>0.5</td>\n",
              "      <td>0.55</td>\n",
              "      <td>74611017</td>\n",
              "      <td>C</td>\n",
              "      <td>11</td>\n",
              "      <td>20</td>\n",
              "      <td>NaN</td>\n",
              "      <td>AMKR</td>\n",
              "      <td>20 MAR 20</td>\n",
              "      <td>PUT</td>\n",
              "      <td>11</td>\n",
              "    </tr>\n",
              "  </tbody>\n",
              "</table>\n",
              "</div>"
            ],
            "text/plain": [
              "                            Timestamp  Last  ...  OptionType  Strike_Price\n",
              "2019-11-04 13:46:52.103547       0.53     1  ...         PUT            11\n",
              "2019-11-04 13:47:50.249916       0.55     3  ...         PUT            11\n",
              "2019-11-04 14:47:21.681808       0.50     1  ...         PUT            11\n",
              "\n",
              "[3 rows x 14 columns]"
            ]
          },
          "metadata": {
            "tags": []
          },
          "execution_count": 62
        }
      ]
    },
    {
      "cell_type": "code",
      "metadata": {
        "id": "i3vPoz_XIXxB",
        "colab_type": "code",
        "colab": {}
      },
      "source": [
        ""
      ],
      "execution_count": 0,
      "outputs": []
    },
    {
      "cell_type": "code",
      "metadata": {
        "id": "I4Iw8h-d4D9f",
        "colab_type": "code",
        "outputId": "4c2b1cbb-13e4-4a33-e459-7d44a2ba8845",
        "colab": {
          "base_uri": "https://localhost:8080/",
          "height": 114
        }
      },
      "source": [
        "df2.head()"
      ],
      "execution_count": 0,
      "outputs": [
        {
          "output_type": "execute_result",
          "data": {
            "text/html": [
              "<div>\n",
              "<style scoped>\n",
              "    .dataframe tbody tr th:only-of-type {\n",
              "        vertical-align: middle;\n",
              "    }\n",
              "\n",
              "    .dataframe tbody tr th {\n",
              "        vertical-align: top;\n",
              "    }\n",
              "\n",
              "    .dataframe thead th {\n",
              "        text-align: right;\n",
              "    }\n",
              "</style>\n",
              "<table border=\"1\" class=\"dataframe\">\n",
              "  <thead>\n",
              "    <tr style=\"text-align: right;\">\n",
              "      <th></th>\n",
              "      <th>Timestamp</th>\n",
              "      <th>Last</th>\n",
              "      <th>LastSize</th>\n",
              "      <th>TotalVolume</th>\n",
              "      <th>Bid</th>\n",
              "      <th>Ask</th>\n",
              "      <th>TickId</th>\n",
              "      <th>BasisForLast</th>\n",
              "      <th>TradeMarketCenter</th>\n",
              "      <th>TradeConditions</th>\n",
              "      <th>Symbol</th>\n",
              "      <th>ExpiryDate</th>\n",
              "      <th>OptionType</th>\n",
              "      <th>Strike_Price</th>\n",
              "    </tr>\n",
              "  </thead>\n",
              "  <tbody>\n",
              "    <tr>\n",
              "      <th>2019-11-04 10:29:35.523620</th>\n",
              "      <td>1.75</td>\n",
              "      <td>1</td>\n",
              "      <td>1</td>\n",
              "      <td>1.7</td>\n",
              "      <td>1.75</td>\n",
              "      <td>20621700</td>\n",
              "      <td>C</td>\n",
              "      <td>17</td>\n",
              "      <td>20</td>\n",
              "      <td>NaN</td>\n",
              "      <td>AMKR</td>\n",
              "      <td>20 MAR 20</td>\n",
              "      <td>PUT</td>\n",
              "      <td>14</td>\n",
              "    </tr>\n",
              "  </tbody>\n",
              "</table>\n",
              "</div>"
            ],
            "text/plain": [
              "                            Timestamp  Last  ...  OptionType  Strike_Price\n",
              "2019-11-04 10:29:35.523620       1.75     1  ...         PUT            14\n",
              "\n",
              "[1 rows x 14 columns]"
            ]
          },
          "metadata": {
            "tags": []
          },
          "execution_count": 63
        }
      ]
    },
    {
      "cell_type": "code",
      "metadata": {
        "id": "ZUO-rMbo4HPS",
        "colab_type": "code",
        "colab": {}
      },
      "source": [
        "df.to_csv(r'/content/drive/My Drive/SampleInputDirectory/20191104/20191104.csv')"
      ],
      "execution_count": 0,
      "outputs": []
    },
    {
      "cell_type": "code",
      "metadata": {
        "id": "oWmVD7yZHetE",
        "colab_type": "code",
        "colab": {}
      },
      "source": [
        ""
      ],
      "execution_count": 0,
      "outputs": []
    }
  ]
}